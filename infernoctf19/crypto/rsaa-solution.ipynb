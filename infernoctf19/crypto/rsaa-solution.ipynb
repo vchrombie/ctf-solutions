{
 "cells": [
  {
   "cell_type": "code",
   "execution_count": 1,
   "metadata": {},
   "outputs": [],
   "source": [
    "import gmpy2\n",
    "\n",
    "from Crypto.Util.number import *\n",
    "from Crypto.PublicKey import RSA"
   ]
  },
  {
   "cell_type": "code",
   "execution_count": 2,
   "metadata": {},
   "outputs": [],
   "source": [
    "e = 65537\n",
    "N = 25693197123978473\n",
    "enc_flag = ['0x2135d36aa0c278', '0x3e8f43212dafd7', '0x7a240c1672358', '0x37677cfb281b26', '0x26f90fe5a4bed0', '0xb0e1c482daf4', '0x59c069723a4e4b', '0x8cec977d4159']"
   ]
  },
  {
   "cell_type": "code",
   "execution_count": 3,
   "metadata": {},
   "outputs": [],
   "source": [
    "p = 150758089\n",
    "q = 170426657"
   ]
  },
  {
   "cell_type": "code",
   "execution_count": 4,
   "metadata": {},
   "outputs": [],
   "source": [
    "n = p*q\n",
    "phin = (p-1)*(q-1)\n",
    "d = inverse(e,phin)"
   ]
  },
  {
   "cell_type": "code",
   "execution_count": 5,
   "metadata": {},
   "outputs": [
    {
     "data": {
      "text/plain": [
       "[9347856374743672,\n",
       " 17608967038283735,\n",
       " 2148723843343192,\n",
       " 15594910206401318,\n",
       " 10969895787609808,\n",
       " 194483711040244,\n",
       " 25262832047771211,\n",
       " 154947781738841]"
      ]
     },
     "execution_count": 5,
     "metadata": {},
     "output_type": "execute_result"
    }
   ],
   "source": [
    "int_enc_flag = []\n",
    "for i in enc_flag:\n",
    "    int_enc_flag.append(int(i, 16))\n",
    "\n",
    "int_enc_flag"
   ]
  },
  {
   "cell_type": "code",
   "execution_count": 6,
   "metadata": {},
   "outputs": [
    {
     "data": {
      "text/plain": [
       "['infe', 'rnoC', 'TF{R', 'SA_k', '3yS_', 't00_', 'SmAl', 'l}\\x02\\x02']"
      ]
     },
     "execution_count": 6,
     "metadata": {},
     "output_type": "execute_result"
    }
   ],
   "source": [
    "flag=[]\n",
    "for i in int_enc_flag:\n",
    "    flag.append(long_to_bytes(pow(i,d,n)).decode())\n",
    "\n",
    "flag"
   ]
  },
  {
   "cell_type": "code",
   "execution_count": 7,
   "metadata": {},
   "outputs": [
    {
     "name": "stdout",
     "output_type": "stream",
     "text": [
      "infernoCTF{RSA_k3yS_t00_SmAll}\u0002\u0002"
     ]
    }
   ],
   "source": [
    "for i in flag:\n",
    "    print(i, end='')"
   ]
  },
  {
   "cell_type": "code",
   "execution_count": 10,
   "metadata": {},
   "outputs": [
    {
     "data": {
      "text/plain": [
       "'infernoCTF{RSA_k3yS_t00_SmAll}'"
      ]
     },
     "execution_count": 10,
     "metadata": {},
     "output_type": "execute_result"
    }
   ],
   "source": [
    "\"infernoCTF{RSA_k3yS_t00_SmAll}\""
   ]
  }
 ],
 "metadata": {
  "kernelspec": {
   "display_name": "Python 2",
   "language": "python",
   "name": "python2"
  },
  "language_info": {
   "codemirror_mode": {
    "name": "ipython",
    "version": 3
   },
   "file_extension": ".py",
   "mimetype": "text/x-python",
   "name": "python",
   "nbconvert_exporter": "python",
   "pygments_lexer": "ipython3",
   "version": "3.7.3"
  }
 },
 "nbformat": 4,
 "nbformat_minor": 2
}
