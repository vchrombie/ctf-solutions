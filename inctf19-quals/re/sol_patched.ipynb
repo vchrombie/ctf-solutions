{
 "cells": [
  {
   "cell_type": "code",
   "execution_count": 1,
   "metadata": {},
   "outputs": [],
   "source": [
    "from string import ascii_uppercase as uper, ascii_lowercase as lower, digits\n",
    "import random\n",
    "\n",
    "check = [959592808, 959852599, 960049253, 926430775, 892811314, 946419251, 929576502, 946419765, 909391664, 925972535, 892613940, 912864564, 12391]"
   ]
  },
  {
   "cell_type": "code",
   "execution_count": 94,
   "metadata": {},
   "outputs": [],
   "source": [
    "def unsage(check):\n",
    "    x=\"\"\n",
    "    for item in check:\n",
    "        k = format(item, 'x')\n",
    "        x=x+bytes.fromhex(k).decode('utf-8')\n",
    "    return x"
   ]
  },
  {
   "cell_type": "code",
   "execution_count": 95,
   "metadata": {},
   "outputs": [],
   "source": [
    "def unpush(a):\n",
    "    x=\"\"\n",
    "    n=[]\n",
    "    for j in a:\n",
    "        n.append(j)\n",
    "    for i in n:\n",
    "        if i.isupper() is True:\n",
    "            x=x+upper[(upper.index(i)-3)%26]\n",
    "        elif i.islower() is True:\n",
    "            x=x+lower[(lower.index(i)-3)%26]\n",
    "        elif i.isdigit() is True:\n",
    "            x=x+digits[(digits.index(i)-3)%10]  \n",
    "    return x"
   ]
  },
  {
   "cell_type": "code",
   "execution_count": 96,
   "metadata": {},
   "outputs": [
    {
     "data": {
      "text/plain": [
       "'inctf{E4$Y_0N3_R1GHT!!?!}'"
      ]
     },
     "execution_count": 96,
     "metadata": {},
     "output_type": "execute_result"
    }
   ],
   "source": [
    "bytes.fromhex(unpush(unsage(check))).decode('utf-8')"
   ]
  }
 ],
 "metadata": {
  "kernelspec": {
   "display_name": "Python 3",
   "language": "python",
   "name": "python3"
  },
  "language_info": {
   "codemirror_mode": {
    "name": "ipython",
    "version": 3
   },
   "file_extension": ".py",
   "mimetype": "text/x-python",
   "name": "python",
   "nbconvert_exporter": "python",
   "pygments_lexer": "ipython3",
   "version": "3.7.3"
  }
 },
 "nbformat": 4,
 "nbformat_minor": 2
}
